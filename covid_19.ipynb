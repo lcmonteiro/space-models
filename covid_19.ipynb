{
 "nbformat": 4,
 "nbformat_minor": 2,
 "metadata": {
  "language_info": {
   "name": "python",
   "codemirror_mode": {
    "name": "ipython",
    "version": 3
   },
   "version": "3.7.4-final"
  },
  "orig_nbformat": 2,
  "file_extension": ".py",
  "mimetype": "text/x-python",
  "name": "python",
  "npconvert_exporter": "python",
  "pygments_lexer": "ipython3",
  "version": 3,
  "kernelspec": {
   "name": "python3",
   "display_name": "Python 3"
  }
 },
 "cells": [
  {
   "cell_type": "markdown",
   "metadata": {},
   "source": [
    "# Data"
   ]
  },
  {
   "cell_type": "code",
   "execution_count": 21,
   "metadata": {},
   "outputs": [],
   "source": [
    "data = [\n",
    "    2,\n",
    "    4,\n",
    "    6,\n",
    "    9,\n",
    "    13,\n",
    "    21,\n",
    "    30,\n",
    "    39,\n",
    "    41,\n",
    "    59,\n",
    "    78,\n",
    "    112,\n",
    "    169,\n",
    "    245,\n",
    "    331,\n",
    "    448,\n",
    "    642,\n",
    "    785,\n",
    "    1020,\n",
    "    1280,\n",
    "    1600,\n",
    "    2060,\n",
    "    2362\n",
    "]"
   ]
  },
  {
   "cell_type": "markdown",
   "metadata": {},
   "source": [
    "# Models"
   ]
  },
  {
   "cell_type": "code",
   "execution_count": 22,
   "metadata": {},
   "outputs": [],
   "source": [
    "def logistic_model(x,a,b,c):\n",
    "    from numpy import exp\n",
    "    return c / (1 + exp(-(x - b) / a))"
   ]
  },
  {
   "cell_type": "markdown",
   "metadata": {},
   "source": [
    "# Regression "
   ]
  },
  {
   "cell_type": "code",
   "execution_count": 23,
   "metadata": {},
   "outputs": [],
   "source": [
    "from scipy.optimize import curve_fit\n",
    "# prepare data\n",
    "x = range(len(data))\n",
    "y = data\n",
    "\n",
    "# logstic fit\n",
    "logistic_fit = curve_fit(logistic_model, x, y)\n",
    "\n",
    ""
   ]
  },
  {
   "cell_type": "code",
   "execution_count": 24,
   "metadata": {},
   "outputs": [
    {
     "output_type": "execute_result",
     "data": {
      "text/plain": "<matplotlib.collections.PathCollection at 0x1c30beaa188>"
     },
     "metadata": {},
     "execution_count": 24
    }
   ],
   "source": [
    "import matplotlib.pyplot as plt\n",
    "# Real data\n",
    "plt.scatter(x, y, label=\"Real data\", color=\"red\")\n",
    "\n",
    "# show\n",
    "plt.show()"
   ]
  }
 ]
}